{
  "cells": [
    {
      "cell_type": "markdown",
      "metadata": {},
      "source": [
        "# EDA"
      ],
      "id": "ee95c345-d903-4a53-809e-ec68739eb5b0"
    },
    {
      "cell_type": "code",
      "execution_count": null,
      "metadata": {},
      "outputs": [],
      "source": [
        "# Import data loading functions\n",
        "from mhcpred.data import get_train_data, get_test_data\n",
        "\n",
        "# Load training and test data\n",
        "df_train = get_train_data()\n",
        "df_test = get_test_data()"
      ],
      "id": "cell-2"
    },
    {
      "cell_type": "code",
      "execution_count": 3,
      "metadata": {
        "ExecuteTime": {
          "end_time": "2025-02-05T13:43:52.307258Z",
          "start_time": "2025-02-05T13:43:52.300772Z"
        }
      },
      "outputs": [
        {
          "output_type": "display_data",
          "metadata": {},
          "data": {
            "text/html": [
              "\n",
              "</div>"
            ]
          }
        }
      ],
      "source": [
        "# View first few rows of training data\n",
        "df_train.head()"
      ],
      "id": "cell-3"
    },
    {
      "cell_type": "code",
      "execution_count": 4,
      "metadata": {
        "ExecuteTime": {
          "end_time": "2025-02-05T13:45:54.622597Z",
          "start_time": "2025-02-05T13:45:54.468772Z"
        }
      },
      "outputs": [
        {
          "output_type": "display_data",
          "metadata": {},
          "data": {
            "text/plain": [
              "allele     \n",
              "HLA-A*02:01    265252\n",
              "HLA-B*07:02    201038\n",
              "HLA-B*57:01    184773\n",
              "HLA-A*29:02    181136\n",
              "HLA-B*40:02    145817\n",
              "                ...  \n",
              "HLA-A*69:01        12\n",
              "HLA-A*02:06         6\n",
              "HLA-A*26:02         6\n",
              "HLA-A*26:03         6\n",
              "HLA-A*25:01         6\n",
              "Name: count, Length: 130, dtype: int64"
            ]
          }
        }
      ],
      "source": [
        "# Get allele counts in training data\n",
        "df_train[[\"allele\"]].value_counts()"
      ],
      "id": "cell-4"
    },
    {
      "cell_type": "code",
      "execution_count": 5,
      "metadata": {
        "ExecuteTime": {
          "end_time": "2025-02-05T13:45:55.572188Z",
          "start_time": "2025-02-05T13:45:55.537389Z"
        }
      },
      "outputs": [
        {
          "output_type": "display_data",
          "metadata": {},
          "data": {
            "text/plain": [
              "allele\n",
              "HLA-A*02:02    77053\n",
              "HLA-A*02:06    54510\n",
              "HLA-A*02:11    48445\n",
              "HLA-B*53:01    46991\n",
              "HLA-B*15:17    45917\n",
              "HLA-A*02:05    45136\n",
              "HLA-B*15:03    44968\n",
              "HLA-A*33:01    43333\n",
              "HLA-A*66:01    41538\n",
              "HLA-C*12:03    36448\n",
              "HLA-C*03:03    35568\n",
              "HLA-A*11:01    33424\n",
              "HLA-A*30:02    33180\n",
              "HLA-C*08:02    32416\n",
              "HLA-A*23:01    30467\n",
              "HLA-A*32:01    28036\n",
              "HLA-B*40:02    23768\n",
              "HLA-B*14:02    21601\n",
              "HLA-B*37:01    20048\n",
              "HLA-B*40:01    18908\n",
              "HLA-B*45:01    18750\n",
              "HLA-B*18:01    18284\n",
              "HLA-B*58:01    17946\n",
              "HLA-B*15:02    16702\n",
              "HLA-B*15:01    16624\n",
              "HLA-A*30:01    15837\n",
              "HLA-C*07:02    15293\n",
              "HLA-B*46:01    14015\n",
              "HLA-B*38:01     9509\n",
              "HLA-B*35:03     8275\n",
              "HLA-A*26:01     7730\n",
              "HLA-C*05:01     7033\n",
              "HLA-A*25:01     6906\n",
              "HLA-A*68:01     5648\n",
              "HLA-B*08:01     3365\n",
              "HLA-B*07:02     2469\n",
              "Name: count, dtype: int64"
            ]
          }
        }
      ],
      "source": [
        "df_test[\"allele\"].value_counts()"
      ],
      "id": "cell-5"
    },
    {
      "cell_type": "code",
      "execution_count": 6,
      "metadata": {
        "ExecuteTime": {
          "end_time": "2025-02-05T13:45:56.870493Z",
          "start_time": "2025-02-05T13:45:56.743371Z"
        }
      },
      "outputs": [
        {
          "output_type": "display_data",
          "metadata": {},
          "data": {
            "text/plain": [
              "allele\n",
              "HLA-A*01:01     7156\n",
              "HLA-A*01:03        7\n",
              "HLA-A*02:01    13025\n",
              "HLA-A*02:03     1873\n",
              "HLA-A*02:04     3155\n",
              "               ...  \n",
              "HLA-C*12:04        3\n",
              "HLA-C*14:02     2441\n",
              "HLA-C*15:02     1873\n",
              "HLA-C*16:01     2970\n",
              "HLA-C*17:01      602\n",
              "Name: hit, Length: 130, dtype: int64"
            ]
          }
        }
      ],
      "source": [
        "# Get positive samples per allele in training\n",
        "df_train.groupby(\"allele\").hit.sum()"
      ],
      "id": "cell-6"
    },
    {
      "cell_type": "code",
      "execution_count": 7,
      "metadata": {
        "ExecuteTime": {
          "end_time": "2025-02-05T13:45:57.928913Z",
          "start_time": "2025-02-05T13:45:57.925379Z"
        }
      },
      "outputs": [
        {
          "output_type": "display_data",
          "metadata": {},
          "data": {
            "text/plain": [
              "197547"
            ]
          }
        }
      ],
      "source": [
        "df_train.hit.sum()"
      ],
      "id": "cell-7"
    },
    {
      "cell_type": "code",
      "execution_count": 8,
      "metadata": {
        "ExecuteTime": {
          "end_time": "2025-02-05T13:45:58.855838Z",
          "start_time": "2025-02-05T13:45:58.852857Z"
        }
      },
      "outputs": [
        {
          "output_type": "display_data",
          "metadata": {},
          "data": {
            "text/plain": [
              "3679405"
            ]
          }
        }
      ],
      "source": [
        "len(df_train)"
      ],
      "id": "cell-8"
    },
    {
      "cell_type": "code",
      "execution_count": 9,
      "metadata": {
        "ExecuteTime": {
          "end_time": "2025-02-05T13:46:00.506378Z",
          "start_time": "2025-02-05T13:46:00.502194Z"
        }
      },
      "outputs": [
        {
          "output_type": "display_data",
          "metadata": {},
          "data": {
            "text/plain": [
              "0.05368993084479692"
            ]
          }
        }
      ],
      "source": [
        "# ~5.37% positive rate\n",
        "df_train.hit.sum() / len(df_train)"
      ],
      "id": "cell-9"
    },
    {
      "cell_type": "code",
      "execution_count": 10,
      "metadata": {
        "ExecuteTime": {
          "end_time": "2025-02-05T13:46:05.063785Z",
          "start_time": "2025-02-05T13:46:05.026823Z"
        }
      },
      "outputs": [
        {
          "output_type": "display_data",
          "metadata": {},
          "data": {
            "text/plain": [
              "allele\n",
              "HLA-A*02:02    3063\n",
              "HLA-A*02:05    2016\n",
              "HLA-A*02:06    1975\n",
              "HLA-A*02:11    2035\n",
              "HLA-A*11:01    2309\n",
              "HLA-A*23:01    1697\n",
              "HLA-A*25:01     396\n",
              "HLA-A*26:01     555\n",
              "HLA-A*30:01     892\n",
              "HLA-A*30:02    2415\n",
              "HLA-A*32:01    1436\n",
              "HLA-A*33:01    2138\n",
              "HLA-A*66:01    1988\n",
              "HLA-A*68:01     433\n",
              "HLA-B*07:02     159\n",
              "HLA-B*08:01     180\n",
              "HLA-B*14:02    1056\n",
              "HLA-B*15:01     769\n",
              "HLA-B*15:02     637\n",
              "HLA-B*15:03    1953\n",
              "HLA-B*15:17    1712\n",
              "HLA-B*18:01     784\n",
              "HLA-B*35:03     330\n",
              "HLA-B*37:01    1253\n",
              "HLA-B*38:01     619\n",
              "HLA-B*40:01    1268\n",
              "HLA-B*40:02    1333\n",
              "HLA-B*45:01     760\n",
              "HLA-B*46:01     575\n",
              "HLA-B*53:01    2016\n",
              "HLA-B*58:01     866\n",
              "HLA-C*03:03    2003\n",
              "HLA-C*05:01     383\n",
              "HLA-C*07:02     593\n",
              "HLA-C*08:02    1546\n",
              "HLA-C*12:03    1273\n",
              "Name: hit, dtype: int64"
            ]
          }
        }
      ],
      "source": [
        "df_test.groupby(\"allele\").hit.sum()"
      ],
      "id": "cell-10"
    },
    {
      "cell_type": "code",
      "execution_count": 11,
      "metadata": {
        "ExecuteTime": {
          "end_time": "2025-02-05T13:46:06.399065Z",
          "start_time": "2025-02-05T13:46:06.395786Z"
        }
      },
      "outputs": [
        {
          "output_type": "display_data",
          "metadata": {},
          "data": {
            "text/plain": [
              "0.04800130213150049"
            ]
          }
        }
      ],
      "source": [
        "df_test.hit.sum() / len(df_test)"
      ],
      "id": "cell-11"
    },
    {
      "cell_type": "code",
      "execution_count": 11,
      "metadata": {},
      "outputs": [
        {
          "output_type": "display_data",
          "metadata": {},
          "data": {
            "text/plain": [
              "{'HLA-A*02:02', 'HLA-A*02:11', 'HLA-A*33:01', 'HLA-B*53:01'}"
            ]
          }
        }
      ],
      "source": [
        "# Find alleles only in test set\n",
        "set(df_test.allele.unique()) - set(df_train.allele.unique())"
      ],
      "id": "cell-12"
    },
    {
      "cell_type": "markdown",
      "metadata": {},
      "source": [
        "# Key Findings\n",
        "\n",
        "-   **Dataset Class Imbalance**\n",
        "    -   **Training Set:**\n",
        "        -   Total samples: 3,679,405\n",
        "        -   Positive rate: 5.37%\n",
        "    -   **Test Set:**\n",
        "        -   Total samples: 453,934\n",
        "        -   Positive rate: 4.8%\n",
        "-   **Allele Distribution**\n",
        "    -   Most frequent: HLA-A\\*02:01 (265,252 samples)\n",
        "    -   Least frequent: Multiple alleles with only 6 samples\n",
        "    -   Distribution: Highly imbalanced across alleles\n",
        "-   **Test-Only Alleles**\n",
        "    -   HLA-A\\*02:02\n",
        "    -   HLA-A\\*02:11\n",
        "    -   HLA-A\\*33:01\n",
        "    -   HLA-B\\*53:01"
      ],
      "id": "df9daed9-1589-4633-8226-cfa785006cee"
    }
  ],
  "nbformat": 4,
  "nbformat_minor": 5,
  "metadata": {
    "kernelspec": {
      "name": "python3",
      "display_name": "Python 3",
      "language": "python"
    },
    "language_info": {
      "name": "python",
      "codemirror_mode": {
        "name": "ipython",
        "version": "2"
      },
      "file_extension": ".py",
      "mimetype": "text/x-python",
      "nbconvert_exporter": "python",
      "pygments_lexer": "ipython2",
      "version": "2.7.6"
    }
  }
}